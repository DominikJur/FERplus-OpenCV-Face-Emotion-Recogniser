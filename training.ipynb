{
 "cells": [
  {
   "cell_type": "code",
   "execution_count": null,
   "id": "156ababb",
   "metadata": {},
   "outputs": [],
   "source": [
    "from utils import train_model, evaluate_model, display_model_predictions\n",
    "from dataset import get_dataloaders, EMOTIONS_TO_IDX\n",
    "from torchvision import models\n",
    "import torch\n",
    "import torch.nn as nn\n",
    "import torch.optim as optim\n",
    "import warnings\n",
    "\n",
    "warnings.filterwarnings(\"ignore\")\n",
    "\n",
    "EMOTIONS_TO_IDX"
   ]
  },
  {
   "cell_type": "code",
   "execution_count": null,
   "id": "41f44a93",
   "metadata": {},
   "outputs": [],
   "source": [
    "device = \"cuda\" if torch.cuda.is_available() else \"cpu\"\n",
    "print(f\"Using device: {device}\")"
   ]
  },
  {
   "cell_type": "code",
   "execution_count": null,
   "id": "76d193ee",
   "metadata": {},
   "outputs": [],
   "source": [
    "train = 1\n",
    "model = models.resnet18(pretrained=True)\n",
    "num_epochs = 100\n",
    "num_classes = len(EMOTIONS_TO_IDX.values())\n",
    "model.fc = nn.Linear(model.fc.in_features, num_classes)\n",
    "\n",
    "train_loader, test_loader = get_dataloaders(\"data\")\n",
    "\n",
    "if train:\n",
    "    # Get dataloaders\n",
    "\n",
    "    optimizer = optim.Adam(model.parameters(), lr=0.001)\n",
    "    criterion = torch.nn.CrossEntropyLoss()\n",
    "\n",
    "    # Train the model\n",
    "    train_model(\n",
    "        model=model,\n",
    "        train_loader=train_loader,\n",
    "        criterion=criterion,\n",
    "        optimizer=optimizer,\n",
    "        num_epochs=num_epochs,\n",
    "        device=device,\n",
    "    )\n",
    "else:\n",
    "    # Load the model\n",
    "    model.load_state_dict(torch.load(\"ResNet_epoch_5.pth\"))\n",
    "    model.eval()"
   ]
  },
  {
   "cell_type": "code",
   "execution_count": null,
   "id": "6ed71c47",
   "metadata": {},
   "outputs": [],
   "source": [
    "eval = 1\n",
    "if eval:\n",
    "    evaluate_model(model=model, test_loader=test_loader, device=device)"
   ]
  },
  {
   "cell_type": "code",
   "execution_count": null,
   "id": "fba603c8",
   "metadata": {},
   "outputs": [],
   "source": [
    "display_model_predictions(\n",
    "    model=model,\n",
    "    test_loader=test_loader,\n",
    "    classes_dict={v: k for k, v in EMOTIONS_TO_IDX.items()},\n",
    ")"
   ]
  },
  {
   "cell_type": "code",
   "execution_count": null,
   "id": "bfb350cc",
   "metadata": {},
   "outputs": [],
   "source": []
  }
 ],
 "metadata": {
  "kernelspec": {
   "display_name": "venv",
   "language": "python",
   "name": "python3"
  },
  "language_info": {
   "codemirror_mode": {
    "name": "ipython",
    "version": 3
   },
   "file_extension": ".py",
   "mimetype": "text/x-python",
   "name": "python",
   "nbconvert_exporter": "python",
   "pygments_lexer": "ipython3",
   "version": "3.11.9"
  }
 },
 "nbformat": 4,
 "nbformat_minor": 5
}
